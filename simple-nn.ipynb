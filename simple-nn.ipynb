{
 "cells": [
  {
   "cell_type": "code",
   "execution_count": 1,
   "id": "3c49742e",
   "metadata": {
    "_cell_guid": "b1076dfc-b9ad-4769-8c92-a6c4dae69d19",
    "_uuid": "8f2839f25d086af736a60e9eeb907d3b93b6e0e5",
    "execution": {
     "iopub.execute_input": "2023-12-01T03:38:48.289821Z",
     "iopub.status.busy": "2023-12-01T03:38:48.288628Z",
     "iopub.status.idle": "2023-12-01T03:38:48.609839Z",
     "shell.execute_reply": "2023-12-01T03:38:48.608942Z"
    },
    "papermill": {
     "duration": 0.329186,
     "end_time": "2023-12-01T03:38:48.612224",
     "exception": false,
     "start_time": "2023-12-01T03:38:48.283038",
     "status": "completed"
    },
    "tags": []
   },
   "outputs": [
    {
     "name": "stdout",
     "output_type": "stream",
     "text": [
      "/kaggle/input/llm-generated-essay-using-palm-from-google-gen-ai/LLM_generated_essay_PaLM.csv\n",
      "/kaggle/input/llm-detect-ai-generated-text/sample_submission.csv\n",
      "/kaggle/input/llm-detect-ai-generated-text/train_prompts.csv\n",
      "/kaggle/input/llm-detect-ai-generated-text/test_essays.csv\n",
      "/kaggle/input/llm-detect-ai-generated-text/train_essays.csv\n",
      "/kaggle/input/combined/train_essay_combined.csv\n"
     ]
    }
   ],
   "source": [
    "# This Python 3 environment comes with many helpful analytics libraries installed\n",
    "# It is defined by the kaggle/python Docker image: https://github.com/kaggle/docker-python\n",
    "# For example, here's several helpful packages to load\n",
    "\n",
    "import numpy as np # linear algebra\n",
    "import pandas as pd # data processing, CSV file I/O (e.g. pd.read_csv)\n",
    "\n",
    "# Input data files are available in the read-only \"../input/\" directory\n",
    "# For example, running this (by clicking run or pressing Shift+Enter) will list all files under the input directory\n",
    "\n",
    "import os\n",
    "for dirname, _, filenames in os.walk('/kaggle/input'):\n",
    "    for filename in filenames:\n",
    "        print(os.path.join(dirname, filename))\n",
    "\n",
    "# You can write up to 20GB to the current directory (/kaggle/working/) that gets preserved as output when you create a version using \"Save & Run All\" \n",
    "# You can also write temporary files to /kaggle/temp/, but they won't be saved outside of the current session"
   ]
  },
  {
   "cell_type": "code",
   "execution_count": 2,
   "id": "9c37f26d",
   "metadata": {
    "execution": {
     "iopub.execute_input": "2023-12-01T03:38:48.624098Z",
     "iopub.status.busy": "2023-12-01T03:38:48.622894Z",
     "iopub.status.idle": "2023-12-01T03:39:22.406971Z",
     "shell.execute_reply": "2023-12-01T03:39:22.405822Z"
    },
    "papermill": {
     "duration": 33.791698,
     "end_time": "2023-12-01T03:39:22.409806",
     "exception": false,
     "start_time": "2023-12-01T03:38:48.618108",
     "status": "completed"
    },
    "tags": []
   },
   "outputs": [],
   "source": [
    "import nltk\n",
    "import pandas as pd\n",
    "import numpy as np\n",
    "import matplotlib.pyplot as plt\n",
    "import seaborn as sns\n",
    "import tensorflow as tf\n",
    "\n",
    "from tensorflow import keras\n",
    "from keras.models import Sequential\n",
    "from keras.layers import Dense, Input, SimpleRNN, LSTM , GRU, Bidirectional, Embedding\n",
    "from keras.layers import Dropout\n",
    "from keras.utils import to_categorical\n",
    "\n",
    "from sklearn.model_selection import train_test_split\n",
    "from gensim.models.doc2vec import Doc2Vec, TaggedDocument"
   ]
  },
  {
   "cell_type": "code",
   "execution_count": 3,
   "id": "1c2f836f",
   "metadata": {
    "execution": {
     "iopub.execute_input": "2023-12-01T03:39:22.420123Z",
     "iopub.status.busy": "2023-12-01T03:39:22.418174Z",
     "iopub.status.idle": "2023-12-01T03:39:22.568870Z",
     "shell.execute_reply": "2023-12-01T03:39:22.567629Z"
    },
    "papermill": {
     "duration": 0.157911,
     "end_time": "2023-12-01T03:39:22.571253",
     "exception": false,
     "start_time": "2023-12-01T03:39:22.413342",
     "status": "completed"
    },
    "tags": []
   },
   "outputs": [],
   "source": [
    "train = pd.read_csv(\"/kaggle/input/combined/train_essay_combined.csv\")"
   ]
  },
  {
   "cell_type": "code",
   "execution_count": 4,
   "id": "08307e97",
   "metadata": {
    "execution": {
     "iopub.execute_input": "2023-12-01T03:39:22.579464Z",
     "iopub.status.busy": "2023-12-01T03:39:22.579096Z",
     "iopub.status.idle": "2023-12-01T03:39:22.596472Z",
     "shell.execute_reply": "2023-12-01T03:39:22.594902Z"
    },
    "papermill": {
     "duration": 0.024793,
     "end_time": "2023-12-01T03:39:22.599496",
     "exception": false,
     "start_time": "2023-12-01T03:39:22.574703",
     "status": "completed"
    },
    "tags": []
   },
   "outputs": [
    {
     "data": {
      "text/plain": [
       "0       Cars. Cars have been around since they became ...\n",
       "1       Transportation is a large necessity in most co...\n",
       "2       \"America's love affair with it's vehicles seem...\n",
       "3       How often do you ride in a car? Do you drive a...\n",
       "4       Cars are a wonderful thing. They are perhaps o...\n",
       "                              ...                        \n",
       "2757    Dear Senator,\\n\\nI am writing to you today to ...\n",
       "2758    Dear Senator,\\n\\nI am writing to you today to ...\n",
       "2759    Dear Senator,\\n\\nI am writing to you today to ...\n",
       "2760    Dear Senator,\\n\\nI am writing to you today to ...\n",
       "2761    Dear Senator,\\n\\nI am writing to you today to ...\n",
       "Name: text, Length: 2762, dtype: object"
      ]
     },
     "execution_count": 4,
     "metadata": {},
     "output_type": "execute_result"
    }
   ],
   "source": [
    "train[\"text\"].astype(str)"
   ]
  },
  {
   "cell_type": "code",
   "execution_count": 5,
   "id": "0a39367b",
   "metadata": {
    "execution": {
     "iopub.execute_input": "2023-12-01T03:39:22.608573Z",
     "iopub.status.busy": "2023-12-01T03:39:22.608174Z",
     "iopub.status.idle": "2023-12-01T03:39:22.618303Z",
     "shell.execute_reply": "2023-12-01T03:39:22.617243Z"
    },
    "papermill": {
     "duration": 0.017374,
     "end_time": "2023-12-01T03:39:22.620591",
     "exception": false,
     "start_time": "2023-12-01T03:39:22.603217",
     "status": "completed"
    },
    "tags": []
   },
   "outputs": [],
   "source": [
    "train_split, val_split = train_test_split(train, test_size=0.4, shuffle=True)"
   ]
  },
  {
   "cell_type": "code",
   "execution_count": 6,
   "id": "166af66a",
   "metadata": {
    "execution": {
     "iopub.execute_input": "2023-12-01T03:39:22.630032Z",
     "iopub.status.busy": "2023-12-01T03:39:22.628855Z",
     "iopub.status.idle": "2023-12-01T03:39:31.173734Z",
     "shell.execute_reply": "2023-12-01T03:39:31.172256Z"
    },
    "papermill": {
     "duration": 8.552292,
     "end_time": "2023-12-01T03:39:31.176534",
     "exception": false,
     "start_time": "2023-12-01T03:39:22.624242",
     "status": "completed"
    },
    "tags": []
   },
   "outputs": [],
   "source": [
    "from spacy.lang.en import English\n",
    "nlp = English()\n",
    "tokenizer = nlp.tokenizer\n",
    "train_essays = []\n",
    "for _, row in train_split.iterrows():\n",
    "  train_essays.append([token.text for token in tokenizer(row[\"text\"])])\n",
    "\n",
    "val_essays = []\n",
    "for _,row in val_split.iterrows():\n",
    "  val_essays.append([token.text for token in tokenizer(row[\"text\"])])\n"
   ]
  },
  {
   "cell_type": "code",
   "execution_count": 7,
   "id": "6493d836",
   "metadata": {
    "execution": {
     "iopub.execute_input": "2023-12-01T03:39:31.185506Z",
     "iopub.status.busy": "2023-12-01T03:39:31.184756Z",
     "iopub.status.idle": "2023-12-01T03:39:45.584649Z",
     "shell.execute_reply": "2023-12-01T03:39:45.583446Z"
    },
    "papermill": {
     "duration": 14.407333,
     "end_time": "2023-12-01T03:39:45.587438",
     "exception": false,
     "start_time": "2023-12-01T03:39:31.180105",
     "status": "completed"
    },
    "tags": []
   },
   "outputs": [],
   "source": [
    "all_essays = train_essays+val_essays\n",
    "documents = [TaggedDocument(doc, [i]) for i, doc in enumerate(all_essays)]\n",
    "doc2vec_model = Doc2Vec(documents, vector_size=100, window=2, min_count=1, workers=4)"
   ]
  },
  {
   "cell_type": "code",
   "execution_count": 8,
   "id": "11829a95",
   "metadata": {
    "execution": {
     "iopub.execute_input": "2023-12-01T03:39:45.596504Z",
     "iopub.status.busy": "2023-12-01T03:39:45.596077Z",
     "iopub.status.idle": "2023-12-01T03:39:59.570015Z",
     "shell.execute_reply": "2023-12-01T03:39:59.568661Z"
    },
    "papermill": {
     "duration": 13.981185,
     "end_time": "2023-12-01T03:39:59.572492",
     "exception": false,
     "start_time": "2023-12-01T03:39:45.591307",
     "status": "completed"
    },
    "tags": []
   },
   "outputs": [],
   "source": [
    "train_vectors = np.array([doc2vec_model.infer_vector(essay) for essay in train_essays])\n",
    "train_labels = np.array([x[\"generated\"] for _, x in train_split.iterrows()])\n",
    "val_vectors = np.array([doc2vec_model.infer_vector(essay) for essay in val_essays])\n",
    "val_labels = np.array([x[\"generated\"] for _, x in val_split.iterrows()])"
   ]
  },
  {
   "cell_type": "code",
   "execution_count": 9,
   "id": "a3006caf",
   "metadata": {
    "execution": {
     "iopub.execute_input": "2023-12-01T03:39:59.581051Z",
     "iopub.status.busy": "2023-12-01T03:39:59.580640Z",
     "iopub.status.idle": "2023-12-01T03:40:24.049098Z",
     "shell.execute_reply": "2023-12-01T03:40:24.047545Z"
    },
    "papermill": {
     "duration": 24.475033,
     "end_time": "2023-12-01T03:40:24.051072",
     "exception": false,
     "start_time": "2023-12-01T03:39:59.576039",
     "status": "completed"
    },
    "tags": []
   },
   "outputs": [
    {
     "name": "stdout",
     "output_type": "stream",
     "text": [
      "Epoch 1/10\n",
      "829/829 [==============================] - 4s 3ms/step - loss: 0.0561 - accuracy: 0.9837 - val_loss: 0.0027 - val_accuracy: 1.0000\n",
      "Epoch 2/10\n",
      "829/829 [==============================] - 2s 3ms/step - loss: 0.0048 - accuracy: 0.9994 - val_loss: 0.0018 - val_accuracy: 1.0000\n",
      "Epoch 3/10\n",
      "829/829 [==============================] - 2s 3ms/step - loss: 0.0011 - accuracy: 1.0000 - val_loss: 7.4553e-04 - val_accuracy: 1.0000\n",
      "Epoch 4/10\n",
      "829/829 [==============================] - 3s 3ms/step - loss: 2.3570e-04 - accuracy: 1.0000 - val_loss: 4.1434e-04 - val_accuracy: 1.0000\n",
      "Epoch 5/10\n",
      "829/829 [==============================] - 2s 3ms/step - loss: 7.9651e-05 - accuracy: 1.0000 - val_loss: 3.6992e-04 - val_accuracy: 1.0000\n",
      "Epoch 6/10\n",
      "829/829 [==============================] - 2s 3ms/step - loss: 4.1582e-05 - accuracy: 1.0000 - val_loss: 2.7559e-04 - val_accuracy: 1.0000\n",
      "Epoch 7/10\n",
      "829/829 [==============================] - 3s 3ms/step - loss: 2.4337e-05 - accuracy: 1.0000 - val_loss: 2.0289e-04 - val_accuracy: 1.0000\n",
      "Epoch 8/10\n",
      "829/829 [==============================] - 2s 2ms/step - loss: 1.4304e-05 - accuracy: 1.0000 - val_loss: 1.6223e-04 - val_accuracy: 1.0000\n",
      "Epoch 9/10\n",
      "829/829 [==============================] - 2s 2ms/step - loss: 8.6583e-06 - accuracy: 1.0000 - val_loss: 1.5745e-04 - val_accuracy: 1.0000\n",
      "Epoch 10/10\n",
      "829/829 [==============================] - 2s 2ms/step - loss: 5.5860e-06 - accuracy: 1.0000 - val_loss: 1.2705e-04 - val_accuracy: 1.0000\n"
     ]
    },
    {
     "data": {
      "text/plain": [
       "<keras.src.callbacks.History at 0x7f1638296fb0>"
      ]
     },
     "execution_count": 9,
     "metadata": {},
     "output_type": "execute_result"
    }
   ],
   "source": [
    "nn = Sequential()\n",
    "nn.add(Dense(64, activation=\"relu\"))\n",
    "nn.add(Dense(32, activation=\"relu\"))\n",
    "nn.add(Dense(1, activation=\"sigmoid\"))\n",
    "\n",
    "nn.compile(loss=keras.losses.BinaryCrossentropy(), optimizer=\"adam\", metrics=[\"accuracy\"])\n",
    "nn.fit(x=train_vectors, y=train_labels, epochs=10, validation_data=(val_vectors, val_labels),\n",
    "       batch_size=2,callbacks=[tf.keras.callbacks.EarlyStopping(patience=3)] )"
   ]
  },
  {
   "cell_type": "code",
   "execution_count": 10,
   "id": "537603e0",
   "metadata": {
    "execution": {
     "iopub.execute_input": "2023-12-01T03:40:24.097762Z",
     "iopub.status.busy": "2023-12-01T03:40:24.097408Z",
     "iopub.status.idle": "2023-12-01T03:40:24.111217Z",
     "shell.execute_reply": "2023-12-01T03:40:24.110214Z"
    },
    "papermill": {
     "duration": 0.039402,
     "end_time": "2023-12-01T03:40:24.113333",
     "exception": false,
     "start_time": "2023-12-01T03:40:24.073931",
     "status": "completed"
    },
    "tags": []
   },
   "outputs": [],
   "source": [
    "test_split = pd.read_csv(\"/kaggle/input/llm-detect-ai-generated-text/test_essays.csv\")\n",
    "test_essays = []\n",
    "for _,row in test_split.iterrows():\n",
    "  test_essays.append([token.text for token in tokenizer(row[\"text\"])])"
   ]
  },
  {
   "cell_type": "code",
   "execution_count": 11,
   "id": "a0b67fcf",
   "metadata": {
    "execution": {
     "iopub.execute_input": "2023-12-01T03:40:24.158414Z",
     "iopub.status.busy": "2023-12-01T03:40:24.158063Z",
     "iopub.status.idle": "2023-12-01T03:40:24.294986Z",
     "shell.execute_reply": "2023-12-01T03:40:24.293451Z"
    },
    "papermill": {
     "duration": 0.1621,
     "end_time": "2023-12-01T03:40:24.297555",
     "exception": false,
     "start_time": "2023-12-01T03:40:24.135455",
     "status": "completed"
    },
    "tags": []
   },
   "outputs": [
    {
     "name": "stdout",
     "output_type": "stream",
     "text": [
      "1/1 [==============================] - 0s 79ms/step\n"
     ]
    }
   ],
   "source": [
    "from sklearn.metrics import accuracy_score\n",
    "predictions = nn.predict(np.array([doc2vec_model.infer_vector(essay) for essay in test_essays]))\n",
    "submission = pd.DataFrame()\n",
    "submission[\"id\"] = test_split[\"id\"]\n",
    "submission[\"generated\"] = predictions\n",
    "submission.to_csv(\"/kaggle/working/submission.csv\", index=False)"
   ]
  },
  {
   "cell_type": "code",
   "execution_count": null,
   "id": "fd73838e",
   "metadata": {
    "papermill": {
     "duration": 0.021359,
     "end_time": "2023-12-01T03:40:24.341082",
     "exception": false,
     "start_time": "2023-12-01T03:40:24.319723",
     "status": "completed"
    },
    "tags": []
   },
   "outputs": [],
   "source": []
  }
 ],
 "metadata": {
  "kaggle": {
   "accelerator": "none",
   "dataSources": [
    {
     "databundleVersionId": 6888007,
     "sourceId": 61542,
     "sourceType": "competition"
    },
    {
     "datasetId": 3973977,
     "sourceId": 6920799,
     "sourceType": "datasetVersion"
    },
    {
     "datasetId": 4089097,
     "sourceId": 7095244,
     "sourceType": "datasetVersion"
    }
   ],
   "dockerImageVersionId": 30587,
   "isGpuEnabled": false,
   "isInternetEnabled": false,
   "language": "python",
   "sourceType": "notebook"
  },
  "kernelspec": {
   "display_name": "Python 3",
   "language": "python",
   "name": "python3"
  },
  "language_info": {
   "codemirror_mode": {
    "name": "ipython",
    "version": 3
   },
   "file_extension": ".py",
   "mimetype": "text/x-python",
   "name": "python",
   "nbconvert_exporter": "python",
   "pygments_lexer": "ipython3",
   "version": "3.10.12"
  },
  "papermill": {
   "default_parameters": {},
   "duration": 102.250326,
   "end_time": "2023-12-01T03:40:27.869845",
   "environment_variables": {},
   "exception": null,
   "input_path": "__notebook__.ipynb",
   "output_path": "__notebook__.ipynb",
   "parameters": {},
   "start_time": "2023-12-01T03:38:45.619519",
   "version": "2.4.0"
  }
 },
 "nbformat": 4,
 "nbformat_minor": 5
}
